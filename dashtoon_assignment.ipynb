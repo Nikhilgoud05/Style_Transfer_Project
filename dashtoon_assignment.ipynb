{
 "cells": [
  {
   "cell_type": "markdown",
   "id": "d19a3490",
   "metadata": {},
   "source": [
    "## importing the libraries"
   ]
  },
  {
   "cell_type": "code",
   "execution_count": 1,
   "id": "3c61c1c4",
   "metadata": {},
   "outputs": [
    {
     "name": "stdout",
     "output_type": "stream",
     "text": [
      "WARNING:tensorflow:From C:\\Users\\nikhi\\anaconda3\\lib\\site-packages\\keras\\src\\losses.py:2976: The name tf.losses.sparse_softmax_cross_entropy is deprecated. Please use tf.compat.v1.losses.sparse_softmax_cross_entropy instead.\n",
      "\n"
     ]
    }
   ],
   "source": [
    "import os\n",
    "import tensorflow as tf\n",
    "import numpy as np\n",
    "import matplotlib.pyplot as plt\n",
    "from tensorflow.keras.applications import vgg19\n",
    "from tensorflow.keras.models import Model\n",
    "from tensorflow.keras.preprocessing.image import load_img, img_to_array"
   ]
  },
  {
   "cell_type": "markdown",
   "id": "65707806",
   "metadata": {},
   "source": [
    "## Preprocess image function"
   ]
  },
  {
   "cell_type": "code",
   "execution_count": 2,
   "id": "de93021b",
   "metadata": {},
   "outputs": [],
   "source": [
    "def preprocess_image(image_path):\n",
    "    img = load_img(image_path, target_size=(224, 224))\n",
    "    img = img_to_array(img)\n",
    "    img = np.expand_dims(img, axis=0)\n",
    "    img = vgg19.preprocess_input(img)\n",
    "    return img"
   ]
  },
  {
   "cell_type": "code",
   "execution_count": 3,
   "id": "80483832",
   "metadata": {},
   "outputs": [],
   "source": [
    "def deprocess_img(processed_img):\n",
    "    x = processed_img.copy()\n",
    "    if len(x.shape) == 4:\n",
    "        x = np.squeeze(x, 0)\n",
    "    x[:, :, 0] += 103.939\n",
    "    x[:, :, 1] += 116.779\n",
    "    x[:, :, 2] += 123.68\n",
    "    x = x[:, :, ::-1]\n",
    "    x = np.clip(x, 0, 255).astype('uint8')\n",
    "    return x"
   ]
  },
  {
   "cell_type": "markdown",
   "id": "692d42b6",
   "metadata": {},
   "source": [
    "## Load images"
   ]
  },
  {
   "cell_type": "code",
   "execution_count": 16,
   "id": "308eb170",
   "metadata": {},
   "outputs": [],
   "source": [
    "content_image = preprocess_image('C:/Users/nikhi/OneDrive/Desktop/practice/Screenshot 2023-11-19 204129.png')\n",
    "style_image = preprocess_image(\"C:/Users/nikhi/OneDrive/Desktop/test.png\")\n"
   ]
  },
  {
   "cell_type": "markdown",
   "id": "76b15528",
   "metadata": {},
   "source": [
    "## Content and Style layers"
   ]
  },
  {
   "cell_type": "code",
   "execution_count": 17,
   "id": "977c754d",
   "metadata": {},
   "outputs": [],
   "source": [
    "content_layers = ['block5_conv2']\n",
    "style_layers = ['block1_conv1', 'block2_conv1', 'block3_conv1', 'block4_conv1', 'block5_conv1']"
   ]
  },
  {
   "cell_type": "markdown",
   "id": "7bb02a21",
   "metadata": {},
   "source": [
    "## Load VGG19 model"
   ]
  },
  {
   "cell_type": "code",
   "execution_count": 18,
   "id": "c02e0019",
   "metadata": {},
   "outputs": [],
   "source": [
    "vgg = vgg19.VGG19(include_top=False, weights='imagenet')\n",
    "vgg.trainable = False\n",
    "\n",
    "# Create the model\n",
    "outputs = [vgg.get_layer(name).output for name in style_layers + content_layers]\n",
    "model = Model(inputs=vgg.input, outputs=outputs)"
   ]
  },
  {
   "cell_type": "markdown",
   "id": "52e0bb91",
   "metadata": {},
   "source": [
    "## Define the style and content loss functions"
   ]
  },
  {
   "cell_type": "code",
   "execution_count": 19,
   "id": "6e08fb88",
   "metadata": {},
   "outputs": [],
   "source": [
    "def compute_style_loss(base_style, target_style):\n",
    "    # Add extra dimension if needed\n",
    "    if len(base_style.shape) == 3:\n",
    "        base_style = tf.expand_dims(base_style, axis=0)\n",
    "    if len(target_style.shape) == 3:\n",
    "        target_style = tf.expand_dims(target_style, axis=0)\n",
    "\n",
    "    base_style_gram = gram_matrix(base_style)\n",
    "    target_style_gram = gram_matrix(target_style)\n",
    "    return tf.reduce_mean(tf.square(base_style_gram - target_style_gram))\n"
   ]
  },
  {
   "cell_type": "code",
   "execution_count": 20,
   "id": "8f5060e3",
   "metadata": {},
   "outputs": [],
   "source": [
    "def compute_content_loss(base_content, target_content):\n",
    "    return tf.reduce_mean(tf.square(base_content - target_content))\n",
    "\n",
    "# Gram matrix function\n",
    "def gram_matrix(input_tensor):\n",
    "    result = tf.linalg.einsum('bijc,bijd->bcd', input_tensor, input_tensor)\n",
    "    input_shape = tf.shape(input_tensor)\n",
    "    num_locations = tf.cast(input_shape[1] * input_shape[2], tf.float32)\n",
    "    return result / num_locations"
   ]
  },
  {
   "cell_type": "markdown",
   "id": "2cac2ef3",
   "metadata": {},
   "source": [
    "## Compute loss function"
   ]
  },
  {
   "cell_type": "code",
   "execution_count": 21,
   "id": "7c278771",
   "metadata": {},
   "outputs": [],
   "source": [
    "def compute_loss(model_outputs, style_targets, content_targets, style_weight, content_weight):\n",
    "    style_output_features = model_outputs[:len(style_layers)]\n",
    "    content_output_features = model_outputs[len(style_layers):]\n",
    "\n",
    "    style_score = 0\n",
    "    content_score = 0\n",
    "\n",
    "    weight_per_style_layer = 1.0 / float(len(style_layers))\n",
    "    for target_style, comb_style in zip(style_targets, style_output_features):\n",
    "        style_score += weight_per_style_layer * compute_style_loss(comb_style[0], target_style)\n",
    "\n",
    "    weight_per_content_layer = 1.0 / float(len(content_layers))\n",
    "    for target_content, comb_content in zip(content_targets, content_output_features):\n",
    "        content_score += weight_per_content_layer * compute_content_loss(comb_content[0], target_content)\n",
    "\n",
    "    style_score *= style_weight\n",
    "    content_score *= content_weight\n",
    "\n",
    "    total_loss = style_score + content_score\n",
    "    return total_loss"
   ]
  },
  {
   "cell_type": "markdown",
   "id": "26334296",
   "metadata": {},
   "source": [
    "## Train step function"
   ]
  },
  {
   "cell_type": "code",
   "execution_count": 22,
   "id": "eeeb7344",
   "metadata": {},
   "outputs": [],
   "source": [
    "def train_step(image, model, optimizer, style_targets, content_targets, style_weight, content_weight):\n",
    "    with tf.GradientTape() as tape:\n",
    "        outputs = model(image)\n",
    "        loss = compute_loss(outputs, style_targets, content_targets, style_weight, content_weight)\n",
    "    grad = tape.gradient(loss, image)\n",
    "    optimizer.apply_gradients([(grad, image)])\n",
    "    image.assign(tf.clip_by_value(image, -1, 1))"
   ]
  },
  {
   "cell_type": "markdown",
   "id": "0afd27b2",
   "metadata": {},
   "source": [
    "## initialization optimizer"
   ]
  },
  {
   "cell_type": "code",
   "execution_count": 23,
   "id": "ca784631",
   "metadata": {},
   "outputs": [],
   "source": [
    "optimizer = tf.optimizers.Adam(learning_rate=0.02)"
   ]
  },
  {
   "cell_type": "markdown",
   "id": "640cdab9",
   "metadata": {},
   "source": [
    "## style and content weights"
   ]
  },
  {
   "cell_type": "code",
   "execution_count": 24,
   "id": "5643b4dd",
   "metadata": {},
   "outputs": [],
   "source": [
    "style_weight = 1.0\n",
    "content_weight = 1.0\n",
    "\n",
    "# Initialize the target image for training\n",
    "target_image = tf.Variable(content_image)\n"
   ]
  },
  {
   "cell_type": "code",
   "execution_count": 25,
   "id": "6748f36e",
   "metadata": {},
   "outputs": [],
   "source": [
    "def get_style_and_content_features(model, style_image, content_image):\n",
    "    # Combine the images into one batch\n",
    "    combined_images = tf.concat([style_image, content_image], axis=0)\n",
    "\n",
    "    # Pass the images through the model and get the outputs\n",
    "    outputs = model(combined_images)\n",
    "\n",
    "    # Separate the style and content representations\n",
    "    style_features = outputs[:len(style_layers)]\n",
    "    content_features = outputs[len(style_layers):]\n",
    "\n",
    "    # Extract the style and content features from the respective layers\n",
    "    style_features = [style_layer[0] for style_layer in style_features]\n",
    "    content_features = [content_layer[1] for content_layer in content_features]\n",
    "\n",
    "    return style_features, content_features\n",
    "\n",
    "# Compute the style and content targets\n",
    "style_targets, content_targets = get_style_and_content_features(model, style_image, content_image)\n"
   ]
  },
  {
   "cell_type": "code",
   "execution_count": 26,
   "id": "972238e6",
   "metadata": {},
   "outputs": [
    {
     "name": "stdout",
     "output_type": "stream",
     "text": [
      "Train step: 0\n",
      "Train step: 1\n",
      "Train step: 2\n",
      "Train step: 3\n",
      "Train step: 4\n",
      "Train step: 5\n",
      "Train step: 6\n",
      "Train step: 7\n",
      "Train step: 8\n",
      "Train step: 9\n"
     ]
    }
   ],
   "source": [
    "style_targets, content_targets = get_style_and_content_features(model, style_image, content_image)\n",
    "\n",
    "# Training loop\n",
    "epochs = 10\n",
    "for n in range(epochs):\n",
    "    train_step(target_image, model, optimizer, style_targets, content_targets, style_weight, content_weight)\n",
    "    print(f\"Train step: {n}\")"
   ]
  },
  {
   "cell_type": "code",
   "execution_count": 27,
   "id": "189c2d04",
   "metadata": {},
   "outputs": [
    {
     "data": {
      "image/png": "[encoded data removed]",
      "text/plain": [
       "<Figure size 640x480 with 1 Axes>"
      ]
     },
     "metadata": {},
     "output_type": "display_data"
    }
   ],
   "source": [
    "final_img = target_image.numpy()\n",
    "plt.imshow(deprocess_img(final_img))\n",
    "plt.show()"
   ]
  },
  {
   "cell_type": "code",
   "execution_count": null,
   "id": "5153a2df",
   "metadata": {},
   "outputs": [],
   "source": []
  }
 ],
 "metadata": {
  "kernelspec": {
   "display_name": "Python 3 (ipykernel)",
   "language": "python",
   "name": "python3"
  },
  "language_info": {
   "codemirror_mode": {
    "name": "ipython",
    "version": 3
   },
   "file_extension": ".py",
   "mimetype": "text/x-python",
   "name": "python",
   "nbconvert_exporter": "python",
   "pygments_lexer": "ipython3",
   "version": "3.9.13"
  }
 },
 "nbformat": 4,
 "nbformat_minor": 5
}
